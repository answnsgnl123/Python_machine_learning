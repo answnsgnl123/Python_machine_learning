{
 "cells": [
  {
   "cell_type": "code",
   "execution_count": 68,
   "id": "f2ace36a",
   "metadata": {},
   "outputs": [],
   "source": [
    "import numpy as np\n",
    "import pandas as pd\n",
    "import matplotlib.pyplot as plt\n",
    "\n",
    "import tensorflow as tf\n",
    "from tensorflow import keras"
   ]
  },
  {
   "cell_type": "code",
   "execution_count": 69,
   "id": "36a4cbfd",
   "metadata": {},
   "outputs": [],
   "source": [
    "from sklearn.datasets import load_iris\n",
    "iris = load_iris()"
   ]
  },
  {
   "cell_type": "code",
   "execution_count": 70,
   "id": "d7781b26",
   "metadata": {},
   "outputs": [
    {
     "data": {
      "text/plain": [
       "((60000, 28, 28), (60000,), (10000, 28, 28), (10000,))"
      ]
     },
     "execution_count": 70,
     "metadata": {},
     "output_type": "execute_result"
    }
   ],
   "source": [
    "(X_train, y_train), (X_test, y_test) = keras.datasets.mnist.load_data()\n",
    "X_train.shape, y_train.shape, X_test.shape, y_test.shape"
   ]
  },
  {
   "cell_type": "code",
   "execution_count": 71,
   "id": "35a9b61c",
   "metadata": {},
   "outputs": [
    {
     "data": {
      "text/plain": [
       "((60000, 28, 28, 1), (10000, 28, 28, 1))"
      ]
     },
     "execution_count": 71,
     "metadata": {},
     "output_type": "execute_result"
    }
   ],
   "source": [
    "X_train = X_train.reshape(-1, 28,28,1)/255\n",
    "X_test = X_test.reshape(-1, 28,28,1)/255\n",
    "X_train.shape, X_test.shape"
   ]
  },
  {
   "cell_type": "code",
   "execution_count": 72,
   "id": "e201e0ca",
   "metadata": {},
   "outputs": [
    {
     "data": {
      "text/plain": [
       "((60000, 10), (10000, 10))"
      ]
     },
     "execution_count": 72,
     "metadata": {},
     "output_type": "execute_result"
    }
   ],
   "source": [
    "y_train = np.eye(10)[y_train]\n",
    "y_test  = np.eye(10)[y_test]\n",
    "y_train.shape, y_test.shape"
   ]
  },
  {
   "cell_type": "code",
   "execution_count": 73,
   "id": "50c01d75",
   "metadata": {},
   "outputs": [],
   "source": [
    "model = keras.models.Sequential()\n",
    "model.add(keras.layers.Conv2D(filters=30, kernel_size=(3,3), padding='same',\n",
    "                              activation='relu', input_shape=(28,28,1)))\n",
    "model.add(keras.layers.MaxPool2D(pool_size=(2,2)))\n",
    "model.add(keras.layers.Conv2D(filters=60, kernel_size=(3,3), padding='same',\n",
    "                              activation='relu'))\n",
    "model.add(keras.layers.MaxPool2D(pool_size=(2,2)))\n",
    "model.add(keras.layers.Conv2D(filters=120, kernel_size=(3,3), padding='same',\n",
    "                              activation='relu'))\n",
    "model.add(keras.layers.MaxPool2D(pool_size=(2,2)))\n",
    "model.add(keras.layers.Flatten())\n",
    "model.add(keras.layers.Dense(100, activation='relu'))\n",
    "model.add(keras.layers.Dense(10, activation='softmax'))"
   ]
  },
  {
   "cell_type": "code",
   "execution_count": 74,
   "id": "21c75f7b",
   "metadata": {},
   "outputs": [
    {
     "name": "stdout",
     "output_type": "stream",
     "text": [
      "Model: \"sequential_7\"\n",
      "_________________________________________________________________\n",
      " Layer (type)                Output Shape              Param #   \n",
      "=================================================================\n",
      " conv2d_12 (Conv2D)          (None, 28, 28, 30)        300       \n",
      "                                                                 \n",
      " max_pooling2d_12 (MaxPoolin  (None, 14, 14, 30)       0         \n",
      " g2D)                                                            \n",
      "                                                                 \n",
      " conv2d_13 (Conv2D)          (None, 14, 14, 60)        16260     \n",
      "                                                                 \n",
      " max_pooling2d_13 (MaxPoolin  (None, 7, 7, 60)         0         \n",
      " g2D)                                                            \n",
      "                                                                 \n",
      " conv2d_14 (Conv2D)          (None, 7, 7, 120)         64920     \n",
      "                                                                 \n",
      " max_pooling2d_14 (MaxPoolin  (None, 3, 3, 120)        0         \n",
      " g2D)                                                            \n",
      "                                                                 \n",
      " flatten_4 (Flatten)         (None, 1080)              0         \n",
      "                                                                 \n",
      " dense_17 (Dense)            (None, 100)               108100    \n",
      "                                                                 \n",
      " dense_18 (Dense)            (None, 10)                1010      \n",
      "                                                                 \n",
      "=================================================================\n",
      "Total params: 190,590\n",
      "Trainable params: 190,590\n",
      "Non-trainable params: 0\n",
      "_________________________________________________________________\n"
     ]
    }
   ],
   "source": [
    "model.summary()"
   ]
  },
  {
   "cell_type": "code",
   "execution_count": 75,
   "id": "bd0c5f15",
   "metadata": {},
   "outputs": [],
   "source": [
    "model.compile(loss='categorical_crossentropy', optimizer='adam', metrics=['acc'])"
   ]
  },
  {
   "cell_type": "code",
   "execution_count": 76,
   "id": "be86cb81",
   "metadata": {},
   "outputs": [
    {
     "name": "stdout",
     "output_type": "stream",
     "text": [
      "Epoch 1/10\n",
      "450/450 [==============================] - 31s 68ms/step - loss: 0.2341 - acc: 0.9292 - val_loss: 0.0713 - val_acc: 0.9778\n",
      "Epoch 2/10\n",
      "450/450 [==============================] - 28s 63ms/step - loss: 0.0541 - acc: 0.9831 - val_loss: 0.0530 - val_acc: 0.9846\n",
      "Epoch 3/10\n",
      "450/450 [==============================] - 28s 62ms/step - loss: 0.0359 - acc: 0.9890 - val_loss: 0.0410 - val_acc: 0.9871\n",
      "Epoch 4/10\n",
      "450/450 [==============================] - 28s 63ms/step - loss: 0.0276 - acc: 0.9912 - val_loss: 0.0400 - val_acc: 0.9889\n",
      "Epoch 5/10\n",
      "450/450 [==============================] - 28s 62ms/step - loss: 0.0230 - acc: 0.9928 - val_loss: 0.0412 - val_acc: 0.9875\n",
      "Epoch 6/10\n",
      "450/450 [==============================] - 29s 63ms/step - loss: 0.0173 - acc: 0.9944 - val_loss: 0.0388 - val_acc: 0.9875\n",
      "Epoch 7/10\n",
      "450/450 [==============================] - 28s 63ms/step - loss: 0.0159 - acc: 0.9950 - val_loss: 0.0476 - val_acc: 0.9861\n",
      "Epoch 8/10\n",
      "450/450 [==============================] - 28s 63ms/step - loss: 0.0118 - acc: 0.9966 - val_loss: 0.0377 - val_acc: 0.9893\n",
      "Epoch 9/10\n",
      "450/450 [==============================] - 28s 63ms/step - loss: 0.0124 - acc: 0.9959 - val_loss: 0.0389 - val_acc: 0.9900\n",
      "Epoch 10/10\n",
      "450/450 [==============================] - 29s 64ms/step - loss: 0.0092 - acc: 0.9969 - val_loss: 0.0412 - val_acc: 0.9887\n"
     ]
    }
   ],
   "source": [
    "history = model.fit(X_train, y_train, epochs=10, batch_size=100, validation_split=0.25)"
   ]
  },
  {
   "cell_type": "code",
   "execution_count": 77,
   "id": "b6f51913",
   "metadata": {},
   "outputs": [
    {
     "data": {
      "text/plain": [
       "<matplotlib.legend.Legend at 0x26722a7d3d0>"
      ]
     },
     "execution_count": 77,
     "metadata": {},
     "output_type": "execute_result"
    },
    {
     "data": {
      "image/png": "[encoded data removed]",
      "text/plain": [
       "<Figure size 432x288 with 2 Axes>"
      ]
     },
     "metadata": {
      "needs_background": "light"
     },
     "output_type": "display_data"
    }
   ],
   "source": [
    "plt.subplot(1,2,1)\n",
    "plt.plot(history.history['acc'])\n",
    "plt.plot(history.history['val_acc'])\n",
    "plt.legend(['acc', 'val_acc'])\n",
    "\n",
    "plt.subplot(1,2,2)\n",
    "plt.plot(history.history['loss'])\n",
    "plt.plot(history.history['val_loss'])\n",
    "plt.legend(['loss', 'val_loss'])"
   ]
  },
  {
   "cell_type": "code",
   "execution_count": 78,
   "id": "49650448",
   "metadata": {},
   "outputs": [
    {
     "name": "stdout",
     "output_type": "stream",
     "text": [
      "313/313 [==============================] - 3s 8ms/step\n"
     ]
    },
    {
     "data": {
      "text/plain": [
       "(10000, 10)"
      ]
     },
     "execution_count": 78,
     "metadata": {},
     "output_type": "execute_result"
    }
   ],
   "source": [
    "y_pred = model.predict(X_test)\n",
    "y_pred.shape"
   ]
  },
  {
   "cell_type": "code",
   "execution_count": 79,
   "id": "868d0faf",
   "metadata": {},
   "outputs": [
    {
     "data": {
      "text/plain": [
       "array([7, 2, 1, 0, 4, 1, 4, 9, 5, 9, 0, 6, 9, 0, 1, 5, 9, 7, 3, 4],\n",
       "      dtype=int64)"
      ]
     },
     "execution_count": 79,
     "metadata": {},
     "output_type": "execute_result"
    }
   ],
   "source": [
    "y_test[:20].argmax(axis=1)"
   ]
  },
  {
   "cell_type": "code",
   "execution_count": 88,
   "id": "01cc914a",
   "metadata": {},
   "outputs": [
    {
     "data": {
      "image/png": "[encoded data removed]",
      "text/plain": [
       "<Figure size 432x288 with 1 Axes>"
      ]
     },
     "metadata": {
      "needs_background": "light"
     },
     "output_type": "display_data"
    }
   ],
   "source": [
    "plt.imshow(X_test[18].reshape(28,28), cmap='gray')\n",
    "pass"
   ]
  },
  {
   "cell_type": "code",
   "execution_count": 89,
   "id": "e47f5676",
   "metadata": {},
   "outputs": [
    {
     "data": {
      "text/plain": [
       "(array([  18,  321,  326,  340,  449,  582,  625,  646,  659,  674,  740,\n",
       "         924,  947, 1014, 1039, 1182, 1224, 1226, 1232, 1299, 1326, 1393,\n",
       "        1621, 1709, 1716, 1878, 1901, 2035, 2130, 2135, 2182, 2462, 2597,\n",
       "        2654, 2927, 2939, 2970, 3073, 3225, 3422, 3520, 3534, 3558, 3762,\n",
       "        3767, 3808, 4176, 4201, 4224, 4360, 4443, 4504, 4731, 4761, 4807,\n",
       "        5201, 5752, 5937, 5955, 5981, 5997, 6555, 6571, 6576, 6597, 6651,\n",
       "        6755, 7619, 9642, 9664, 9679, 9729, 9839], dtype=int64),)"
      ]
     },
     "execution_count": 89,
     "metadata": {},
     "output_type": "execute_result"
    }
   ],
   "source": [
    "np.where(y_pred.argmax(axis=1) != y_test.argmax(axis=1))"
   ]
  },
  {
   "cell_type": "code",
   "execution_count": null,
   "id": "131ca0bc",
   "metadata": {},
   "outputs": [],
   "source": []
  },
  {
   "cell_type": "code",
   "execution_count": 143,
   "id": "b548da6b",
   "metadata": {},
   "outputs": [
    {
     "data": {
      "text/plain": [
       "<matplotlib.image.AxesImage at 0x2672471d5b0>"
      ]
     },
     "execution_count": 143,
     "metadata": {},
     "output_type": "execute_result"
    },
    {
     "data": {
      "image/png": "[encoded data removed]",
      "text/plain": [
       "<Figure size 432x288 with 1 Axes>"
      ]
     },
     "metadata": {
      "needs_background": "light"
     },
     "output_type": "display_data"
    }
   ],
   "source": [
    "n = 1\n",
    "plt.title(np.argmax(y_test[n]))\n",
    "plt.imshow(X_test[n,:,:,0], cmap='gray')\n"
   ]
  },
  {
   "cell_type": "code",
   "execution_count": null,
   "id": "cdde2774",
   "metadata": {},
   "outputs": [],
   "source": []
  }
 ],
 "metadata": {
  "kernelspec": {
   "display_name": "Python 3 (ipykernel)",
   "language": "python",
   "name": "python3"
  },
  "language_info": {
   "codemirror_mode": {
    "name": "ipython",
    "version": 3
   },
   "file_extension": ".py",
   "mimetype": "text/x-python",
   "name": "python",
   "nbconvert_exporter": "python",
   "pygments_lexer": "ipython3",
   "version": "3.9.7"
  }
 },
 "nbformat": 4,
 "nbformat_minor": 5
}
