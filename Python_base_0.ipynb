{
 "cells": [
  {
   "cell_type": "code",
   "execution_count": 1,
   "id": "e9831563",
   "metadata": {},
   "outputs": [
    {
     "name": "stdout",
     "output_type": "stream",
     "text": [
      "a\n"
     ]
    }
   ],
   "source": [
    "print('a')"
   ]
  },
  {
   "cell_type": "code",
   "execution_count": 2,
   "id": "37047155",
   "metadata": {},
   "outputs": [
    {
     "data": {
      "text/plain": [
       "[[1], [2, [3, 4]], [5, [6, [7, 8]]]]"
      ]
     },
     "execution_count": 2,
     "metadata": {},
     "output_type": "execute_result"
    }
   ],
   "source": [
    "i = [[1],[2,[3,4]],[5,[6,[7,8]]]]\n",
    "i"
   ]
  },
  {
   "cell_type": "code",
   "execution_count": 3,
   "id": "aaf06859",
   "metadata": {},
   "outputs": [
    {
     "data": {
      "text/plain": [
       "[5, [6, [7, 8]]]"
      ]
     },
     "execution_count": 3,
     "metadata": {},
     "output_type": "execute_result"
    }
   ],
   "source": [
    "i[2]\n"
   ]
  },
  {
   "cell_type": "code",
   "execution_count": 4,
   "id": "6b538c94",
   "metadata": {},
   "outputs": [
    {
     "data": {
      "text/plain": [
       "[6, [7, 8]]"
      ]
     },
     "execution_count": 4,
     "metadata": {},
     "output_type": "execute_result"
    }
   ],
   "source": [
    "i[2][1]"
   ]
  },
  {
   "cell_type": "code",
   "execution_count": 5,
   "id": "e0ae5527",
   "metadata": {},
   "outputs": [
    {
     "data": {
      "text/plain": [
       "[7, 8]"
      ]
     },
     "execution_count": 5,
     "metadata": {},
     "output_type": "execute_result"
    }
   ],
   "source": [
    "i[2][1][1]"
   ]
  },
  {
   "cell_type": "code",
   "execution_count": 6,
   "id": "b78d1893",
   "metadata": {},
   "outputs": [
    {
     "data": {
      "text/plain": [
       "7"
      ]
     },
     "execution_count": 6,
     "metadata": {},
     "output_type": "execute_result"
    }
   ],
   "source": [
    "i[2][1][1][0]"
   ]
  },
  {
   "cell_type": "code",
   "execution_count": 7,
   "id": "9fcd11a8",
   "metadata": {},
   "outputs": [
    {
     "data": {
      "text/plain": [
       "3"
      ]
     },
     "execution_count": 7,
     "metadata": {},
     "output_type": "execute_result"
    }
   ],
   "source": [
    "len(i)"
   ]
  },
  {
   "cell_type": "code",
   "execution_count": 31,
   "id": "e6360957",
   "metadata": {},
   "outputs": [
    {
     "name": "stdout",
     "output_type": "stream",
     "text": [
      "1 10\n",
      "1 10\n",
      "1 10\n",
      "2 20\n",
      "2 20\n",
      "2 20\n",
      "3 30\n",
      "3 30\n",
      "3 30\n"
     ]
    }
   ],
   "source": [
    "l =[[1,10,20],[2,20,30],[3,30,40]]\n",
    "a =['첫','둘','셋']\n",
    "\n",
    "for i in l:\n",
    "    for j in a:\n",
    "         print(i[0] , i[1])"
   ]
  },
  {
   "cell_type": "code",
   "execution_count": 40,
   "id": "e7f1489e",
   "metadata": {},
   "outputs": [
    {
     "name": "stdout",
     "output_type": "stream",
     "text": [
      "[[ 1 10 20]\n",
      " [ 2 20 30]\n",
      " [ 3 30 40]]\n"
     ]
    },
    {
     "data": {
      "text/plain": [
       "array([[ 3, 30, 40]])"
      ]
     },
     "execution_count": 40,
     "metadata": {},
     "output_type": "execute_result"
    }
   ],
   "source": [
    "import numpy as np\n",
    "\n",
    "l =[[1,10,20],[2,20,30],[3,30,40]]\n",
    "a = np.array(l)\n",
    "print(a)\n",
    "a[0]\n",
    "\n",
    "a[:2]\n",
    "\n",
    "a[-1:]"
   ]
  },
  {
   "cell_type": "code",
   "execution_count": 64,
   "id": "9c8d60e9",
   "metadata": {},
   "outputs": [
    {
     "name": "stdout",
     "output_type": "stream",
     "text": [
      "[[ 1  2  3  4  5  6  7  8  9 10]\n",
      " [ 2  4  6  8 10 12 14 16 18 20]\n",
      " [ 3  6  9 12 15 18 21 24 27 30]\n",
      " [ 4  8 12 16 20 24 28 32 36 40]]\n"
     ]
    }
   ],
   "source": [
    "\n",
    "l = []\n",
    "for i in range(1,5):\n",
    "    t = []\n",
    "    for j in range(1,11):\n",
    "        t.append(i*j)\n",
    "    l.append(t)\n",
    "    \n",
    "data = np.array(l)\n",
    "print(data)\n",
    "\n"
   ]
  },
  {
   "cell_type": "code",
   "execution_count": 66,
   "id": "e060185c",
   "metadata": {},
   "outputs": [
    {
     "data": {
      "text/plain": [
       "<matplotlib.colorbar.Colorbar at 0x1e4e327a850>"
      ]
     },
     "execution_count": 66,
     "metadata": {},
     "output_type": "execute_result"
    },
    {
     "data": {
      "image/png": "[encoded data removed]",
      "text/plain": [
       "<Figure size 432x288 with 2 Axes>"
      ]
     },
     "metadata": {
      "needs_background": "light"
     },
     "output_type": "display_data"
    }
   ],
   "source": [
    "import matplotlib.pyplot as plt\n",
    "\n",
    "plt.imshow(a)\n",
    "plt.colorbar()"
   ]
  },
  {
   "cell_type": "code",
   "execution_count": null,
   "id": "9ca5844f",
   "metadata": {},
   "outputs": [],
   "source": []
  }
 ],
 "metadata": {
  "kernelspec": {
   "display_name": "Python 3 (ipykernel)",
   "language": "python",
   "name": "python3"
  },
  "language_info": {
   "codemirror_mode": {
    "name": "ipython",
    "version": 3
   },
   "file_extension": ".py",
   "mimetype": "text/x-python",
   "name": "python",
   "nbconvert_exporter": "python",
   "pygments_lexer": "ipython3",
   "version": "3.9.7"
  }
 },
 "nbformat": 4,
 "nbformat_minor": 5
}
