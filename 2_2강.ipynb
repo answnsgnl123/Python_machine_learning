{
 "cells": [
  {
   "cell_type": "markdown",
   "id": "b577ce8b",
   "metadata": {},
   "source": [
    "### jupyter notebook\n",
    "#### 단축키\n",
    "\n",
    "- exc 명령모드 진입\n",
    "- a 위 Cell 추가 b 아래 Cell 추가 dd 지우기 \n",
    "- m 마크다운모드\n",
    "-  1,2,3 마크다운 바로 제목적기 \n",
    "-  L 줄 표시\n",
    "- k j 위 아래 \n",
    "- h 단축키 메뉴얼"
   ]
  },
  {
   "cell_type": "markdown",
   "id": "47fb5104",
   "metadata": {},
   "source": [
    "### 신경망"
   ]
  },
  {
   "cell_type": "code",
   "execution_count": null,
   "id": "c800fcbf",
   "metadata": {},
   "outputs": [],
   "source": []
  }
 ],
 "metadata": {
  "kernelspec": {
   "display_name": "Python 3 (ipykernel)",
   "language": "python",
   "name": "python3"
  },
  "language_info": {
   "codemirror_mode": {
    "name": "ipython",
    "version": 3
   },
   "file_extension": ".py",
   "mimetype": "text/x-python",
   "name": "python",
   "nbconvert_exporter": "python",
   "pygments_lexer": "ipython3",
   "version": "3.9.7"
  }
 },
 "nbformat": 4,
 "nbformat_minor": 5
}
